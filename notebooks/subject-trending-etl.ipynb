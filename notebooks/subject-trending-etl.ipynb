{
 "cells": [
  {
   "cell_type": "code",
   "execution_count": null,
   "metadata": {},
   "outputs": [],
   "source": [
    "import json\n",
    "import numpy as np\n",
    "import os\n",
    "from sklearn.linear_model import SGDClassifier\n",
    "from sklearn.feature_extraction.text import TfidfVectorizer\n",
    "os.getcwd()"
   ]
  },
  {
   "cell_type": "code",
   "execution_count": null,
   "metadata": {},
   "outputs": [],
   "source": [
    "docs = []\n",
    "for file in os.listdir(\"../data/universal-trending-20171129-1548/\"):\n",
    "    with open(\"../data/universal-trending-20171129-1548/\" + file) as f:\n",
    "        for line in f:\n",
    "            docs.append(json.loads(line))\n",
    "doc_index = dict(zip([doc[\"id\"] for doc in docs], range(len(docs))))\n",
    "len(docs)"
   ]
  },
  {
   "cell_type": "code",
   "execution_count": null,
   "metadata": {},
   "outputs": [],
   "source": [
    "docDict = {doc[\"id\"]:doc for doc in docs}"
   ]
  },
  {
   "cell_type": "code",
   "execution_count": null,
   "metadata": {},
   "outputs": [],
   "source": [
    "with open(\"../data/universal-trending-20171129-1548-with-subject-area/trending-by-subject-area-20171129-1548\", 'w') as output:\n",
    "    with open(\"../data/trending-by-subject-area-20171129-1548\") as f:\n",
    "        for line in f:\n",
    "            splitLine = line.split(\"\\t\")\n",
    "            subject = splitLine[0]\n",
    "            recs = json.loads(splitLine[1])[\"recommendations\"]\n",
    "            numRecs = len(recs)\n",
    "            recsWithMetadata = sum([(rec[\"recommendation\"] in docDict) for rec in recs])\n",
    "            print(subject, recsWithMetadata, numRecs)\n",
    "            for rec in recs:\n",
    "                docId = rec[\"recommendation\"]\n",
    "                if docId in docDict:\n",
    "                    doc = docDict[docId]\n",
    "                    doc[\"subjectArea\"] = subject\n",
    "                    output.write(json.dumps(doc) + \"\\n\")"
   ]
  },
  {
   "cell_type": "code",
   "execution_count": null,
   "metadata": {},
   "outputs": [],
   "source": []
  }
 ],
 "metadata": {
  "kernelspec": {
   "display_name": "Python 3",
   "language": "python",
   "name": "python3"
  },
  "language_info": {
   "codemirror_mode": {
    "name": "ipython",
    "version": 3
   },
   "file_extension": ".py",
   "mimetype": "text/x-python",
   "name": "python",
   "nbconvert_exporter": "python",
   "pygments_lexer": "ipython3",
   "version": "3.5.1"
  }
 },
 "nbformat": 4,
 "nbformat_minor": 0
}
