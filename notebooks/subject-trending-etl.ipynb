{
 "cells": [
  {
   "cell_type": "code",
   "execution_count": 1,
   "metadata": {
    "collapsed": false
   },
   "outputs": [
    {
     "data": {
      "text/plain": [
       "'/Users/pettitb/Dev/hackdays/tinder-style-recommender/notebooks'"
      ]
     },
     "execution_count": 1,
     "metadata": {},
     "output_type": "execute_result"
    }
   ],
   "source": [
    "import json\n",
    "import numpy as np\n",
    "import os\n",
    "from sklearn.linear_model import SGDClassifier\n",
    "from sklearn.feature_extraction.text import TfidfVectorizer\n",
    "os.getcwd()"
   ]
  },
  {
   "cell_type": "code",
   "execution_count": 3,
   "metadata": {
    "collapsed": false
   },
   "outputs": [
    {
     "data": {
      "text/plain": [
       "273585"
      ]
     },
     "execution_count": 3,
     "metadata": {},
     "output_type": "execute_result"
    }
   ],
   "source": [
    "docs = []\n",
    "for file in os.listdir(\"../data/universal-trending-20171129-1548/\"):\n",
    "    with open(\"../data/universal-trending-20171129-1548/\" + file) as f:\n",
    "        for line in f:\n",
    "            docs.append(json.loads(line))\n",
    "doc_index = dict(zip([doc[\"id\"] for doc in docs], range(len(docs))))\n",
    "len(docs)"
   ]
  },
  {
   "cell_type": "code",
   "execution_count": 8,
   "metadata": {
    "collapsed": false
   },
   "outputs": [],
   "source": [
    "docDict = {doc[\"id\"]:doc for doc in docs}"
   ]
  },
  {
   "cell_type": "code",
   "execution_count": 11,
   "metadata": {
    "collapsed": false
   },
   "outputs": [
    {
     "name": "stdout",
     "output_type": "stream",
     "text": [
      "Chemical Engineering 95 100\n",
      "Business, Management and Accounting 98 100\n",
      "Materials Science 92 100\n",
      "Sports and Recreations 95 100\n",
      "Medicine and Dentistry 96 100\n",
      "Pharmacology, Toxicology and Pharmaceutical Science 89 100\n",
      "Economics, Econometrics and Finance 94 100\n",
      "Arts and Humanities 87 100\n",
      "Computer Science 99 100\n",
      "Biochemistry, Genetics and Molecular Biology 95 100\n",
      "Environmental Science 100 100\n",
      "Nursing and Health Professions 98 100\n",
      "Chemistry 96 100\n",
      "Physics and Astronomy 97 100\n",
      "Philosophy 4 9\n",
      "Energy 81 100\n",
      "Linguistics 94 100\n",
      "Mathematics 54 88\n",
      "Earth and Planetary Sciences 96 100\n",
      "Immunology and Microbiology 88 100\n",
      "Neuroscience 95 100\n",
      "Veterinary Science and Veterinary Medicine 100 100\n",
      "Design 62 100\n",
      "Social Sciences 97 100\n",
      "Agricultural and Biological Sciences 98 100\n",
      "Psychology 100 100\n",
      "Engineering 98 100\n"
     ]
    }
   ],
   "source": [
    "with open(\"../data/universal-trending-20171129-1548-with-subject-area/trending-by-subject-area-20171129-1548\", 'w') as output:\n",
    "    with open(\"../data/trending-by-subject-area-20171129-1548\") as f:\n",
    "        for line in f:\n",
    "            splitLine = line.split(\"\\t\")\n",
    "            subject = splitLine[0]\n",
    "            recs = json.loads(splitLine[1])[\"recommendations\"]\n",
    "            numRecs = len(recs)\n",
    "            recsWithMetadata = sum([(rec[\"recommendation\"] in docDict) for rec in recs])\n",
    "            print(subject, recsWithMetadata, numRecs)\n",
    "            for rec in recs:\n",
    "                docId = rec[\"recommendation\"]\n",
    "                if docId in docDict:\n",
    "                    doc = docDict[docId]\n",
    "                    doc[\"subjectArea\"] = subject\n",
    "                    output.write(json.dumps(doc) + \"\\n\")"
   ]
  },
  {
   "cell_type": "code",
   "execution_count": null,
   "metadata": {
    "collapsed": true
   },
   "outputs": [],
   "source": []
  }
 ],
 "metadata": {
  "kernelspec": {
   "display_name": "Python 3",
   "language": "python",
   "name": "python3"
  },
  "language_info": {
   "codemirror_mode": {
    "name": "ipython",
    "version": 3
   },
   "file_extension": ".py",
   "mimetype": "text/x-python",
   "name": "python",
   "nbconvert_exporter": "python",
   "pygments_lexer": "ipython3",
   "version": "3.5.1"
  },
  "widgets": {
   "state": {},
   "version": "1.1.2"
  }
 },
 "nbformat": 4,
 "nbformat_minor": 0
}
