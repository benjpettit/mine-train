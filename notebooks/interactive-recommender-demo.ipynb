{
 "cells": [
  {
   "cell_type": "code",
   "execution_count": null,
   "metadata": {},
   "outputs": [],
   "source": [
    "import json\n",
    "import numpy as np\n",
    "import os\n",
    "from sklearn.linear_model import SGDClassifier\n",
    "from sklearn.feature_extraction.text import TfidfVectorizer\n",
    "from app.learner import Learner\n",
    "from app import settings\n"
   ]
  },
  {
   "cell_type": "code",
   "execution_count": null,
   "metadata": {},
   "outputs": [],
   "source": [
    "dataDir = \"../data/universal-trending-20171129-1548/\"\n",
    "learner = Learner(dataDir)\n",
    "learner.vectors.shape"
   ]
  },
  {
   "cell_type": "code",
   "execution_count": null,
   "metadata": {},
   "outputs": [],
   "source": [
    "print(\"Features with highest doc frequency\")\n",
    "sorted(zip(learner.vectorizer.idf_, learner.vectorizer.vocabulary_), key=lambda x: x[0])[:5]"
   ]
  },
  {
   "cell_type": "code",
   "execution_count": null,
   "metadata": {},
   "outputs": [],
   "source": [
    "print(\"Features with lowest doc frequency\")\n",
    "sorted(zip(learner.vectorizer.idf_, learner.vectorizer.vocabulary_), key=lambda x: -x[0])[:5]"
   ]
  },
  {
   "cell_type": "code",
   "execution_count": null,
   "metadata": {},
   "outputs": [],
   "source": [
    "print(settings.DITHERING_EPSILON)\n",
    "learner.dither(list(range(10)))"
   ]
  },
  {
   "cell_type": "code",
   "execution_count": null,
   "metadata": {},
   "outputs": [],
   "source": [
    "from __future__ import print_function\n",
    "from ipywidgets import interact, fixed\n",
    "\n",
    "settings.BATCH_SIZE = 1\n",
    "settings.EXPLORE_PROBABILITY = 0.0\n",
    "settings.DITHERING_EPSILON = 20\n",
    "\n",
    "def handleResponse(x, docId):\n",
    "    if x != 0.5:\n",
    "        learner.handleResponse(docId, x)\n",
    "        getFeedback()\n",
    "\n",
    "learner.candidates = []\n",
    "        \n",
    "def getFeedback():\n",
    "    if not learner.candidates:\n",
    "        learner.candidates = learner.getCandidates()\n",
    "    candidate = learner.candidates.pop(0)\n",
    "    print(\"\\n\", candidate[\"title\"])\n",
    "    print(candidate[\"description\"])\n",
    "    interact(handleResponse, x=(0.0,1,0.5), docId=fixed(candidate[\"id\"]));\n",
    "    \n",
    "getFeedback()"
   ]
  },
  {
   "cell_type": "code",
   "execution_count": null,
   "metadata": {},
   "outputs": [],
   "source": []
  }
 ],
 "metadata": {
  "kernelspec": {
   "display_name": "Python 3",
   "language": "python",
   "name": "python3"
  },
  "language_info": {
   "codemirror_mode": {
    "name": "ipython",
    "version": 3
   },
   "file_extension": ".py",
   "mimetype": "text/x-python",
   "name": "python",
   "nbconvert_exporter": "python",
   "pygments_lexer": "ipython3",
   "version": "3.5.1"
  }
 },
 "nbformat": 4,
 "nbformat_minor": 0
}
